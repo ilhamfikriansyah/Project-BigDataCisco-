{
  "nbformat": 4,
  "nbformat_minor": 0,
  "metadata": {
    "colab": {
      "name": "Project 2 Big Data Cisco",
      "provenance": [],
      "collapsed_sections": []
    },
    "kernelspec": {
      "name": "python3",
      "display_name": "Python 3"
    },
    "language_info": {
      "name": "python"
    }
  },
  "cells": [
    {
      "cell_type": "code",
      "metadata": {
        "id": "W8yF8DMKKh6O"
      },
      "source": [
        "import datetime\n",
        "\n",
        "class BankAccount:\n",
        "\n",
        "#saldo awal\n",
        "    __MIN_BALANCE = 50000\n",
        "\n",
        "    def __init__(self, owner, account_number):\n",
        "        self.owner = owner\n",
        "        self.account_number = account_number\n",
        "        self.amount = self.__MIN_BALANCE\n",
        "\n",
        "# Method untuk menambah uang ke dalam akun pemilik.\n",
        "    def deposit(self, amount):\n",
        "        #self.amout = int(self.amount)\n",
        "        self.amount += amount\n",
        "        \n",
        "# Method untuk melakukan penarikan uang dari akun pemilik.\n",
        "# Apabila pemilik ingin menarik uang lebih dari nilai saldo + minimal saldo maka transaksi gagal dan saldo tidak berubah.\n",
        "    def withdraw(self, amount): \n",
        "        self.amout = int(self.amount)\n",
        "        if self.amount < amount:\n",
        "          self.amount = self.amount #transaksi gagal dan saldo tidak berubah\n",
        "        else:\n",
        "          self.amout = int(self.amount)\n",
        "          self.amount -= amount\n",
        "  \n",
        "# Fungsi __str__ untuk mencetak informasi tentang objek pemilik akun\n",
        "    def __str__(self):\n",
        "      now = datetime.datetime.today()\n",
        "      a = now.strftime(\"%A, \" + \"%d %b %Y %H:%M:%S\")\n",
        "\n",
        "      return ('Bank Account: '\n",
        "            '\\n    Acount Owner: ' + self.owner +\n",
        "            '\\n    Account Number: ' + self.account_number +\n",
        "            '\\n    Last Transaction: ' +  str(a) +\n",
        "            '\\n    Current Balance: ' + str(self.amount) +\n",
        "            '\\n')\n",
        "      \n",
        "        "
      ],
      "execution_count": 4,
      "outputs": []
    },
    {
      "cell_type": "code",
      "metadata": {
        "colab": {
          "base_uri": "https://localhost:8080/"
        },
        "id": "Vfi1T5qNEPkT",
        "outputId": "baabfccf-f2e5-424d-bd8a-b4bf40f38b8f"
      },
      "source": [
        "joko = BankAccount(\"Joko Wibowo\", \"123456\")\n",
        "tingkir = BankAccount(\"Tingkir Surodo\", \"456789\")\n",
        "print(joko)\n",
        "print(tingkir)\n",
        "\n",
        "joko.deposit(10)\n",
        "tingkir.deposit(20)\n",
        "print(joko)\n",
        "print(tingkir)\n",
        "\n",
        "joko.withdraw(52000)\n",
        "tingkir.withdraw(3)\n",
        "print(joko)\n",
        "print(tingkir)\n",
        "\n",
        "joko.withdraw(1)\n",
        "tingkir.withdraw(1)\n",
        "print(joko)\n",
        "print(tingkir)\n",
        "\n",
        "joko.deposit(5)\n",
        "tingkir.deposit(5)\n",
        "print(joko)\n",
        "print(tingkir)\n",
        "\n"
      ],
      "execution_count": 6,
      "outputs": [
        {
          "output_type": "stream",
          "text": [
            "Bank Account: \n",
            "    Acount Owner: Joko Wibowo\n",
            "    Account Number: 123456\n",
            "    Last Transaction: Sunday, 15 Aug 2021 17:02:34\n",
            "    Current Balance: 50000\n",
            "\n",
            "Bank Account: \n",
            "    Acount Owner: Tingkir Surodo\n",
            "    Account Number: 456789\n",
            "    Last Transaction: Sunday, 15 Aug 2021 17:02:34\n",
            "    Current Balance: 50000\n",
            "\n",
            "Bank Account: \n",
            "    Acount Owner: Joko Wibowo\n",
            "    Account Number: 123456\n",
            "    Last Transaction: Sunday, 15 Aug 2021 17:02:34\n",
            "    Current Balance: 50010\n",
            "\n",
            "Bank Account: \n",
            "    Acount Owner: Tingkir Surodo\n",
            "    Account Number: 456789\n",
            "    Last Transaction: Sunday, 15 Aug 2021 17:02:34\n",
            "    Current Balance: 50020\n",
            "\n",
            "Bank Account: \n",
            "    Acount Owner: Joko Wibowo\n",
            "    Account Number: 123456\n",
            "    Last Transaction: Sunday, 15 Aug 2021 17:02:34\n",
            "    Current Balance: 50010\n",
            "\n",
            "Bank Account: \n",
            "    Acount Owner: Tingkir Surodo\n",
            "    Account Number: 456789\n",
            "    Last Transaction: Sunday, 15 Aug 2021 17:02:34\n",
            "    Current Balance: 50017\n",
            "\n",
            "Bank Account: \n",
            "    Acount Owner: Joko Wibowo\n",
            "    Account Number: 123456\n",
            "    Last Transaction: Sunday, 15 Aug 2021 17:02:34\n",
            "    Current Balance: 50009\n",
            "\n",
            "Bank Account: \n",
            "    Acount Owner: Tingkir Surodo\n",
            "    Account Number: 456789\n",
            "    Last Transaction: Sunday, 15 Aug 2021 17:02:34\n",
            "    Current Balance: 50016\n",
            "\n",
            "Bank Account: \n",
            "    Acount Owner: Joko Wibowo\n",
            "    Account Number: 123456\n",
            "    Last Transaction: Sunday, 15 Aug 2021 17:02:34\n",
            "    Current Balance: 50014\n",
            "\n",
            "Bank Account: \n",
            "    Acount Owner: Tingkir Surodo\n",
            "    Account Number: 456789\n",
            "    Last Transaction: Sunday, 15 Aug 2021 17:02:34\n",
            "    Current Balance: 50021\n",
            "\n"
          ],
          "name": "stdout"
        }
      ]
    },
    {
      "cell_type": "code",
      "metadata": {
        "id": "EqGTA98yvxDX"
      },
      "source": [
        ""
      ],
      "execution_count": null,
      "outputs": []
    }
  ]
}